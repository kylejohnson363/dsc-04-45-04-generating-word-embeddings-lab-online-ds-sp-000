{
 "cells": [
  {
   "cell_type": "markdown",
   "metadata": {},
   "source": [
    "# Generating Word Embeddings - Lab\n",
    "\n",
    "## Introduction\n",
    "\n",
    "In this lab, we'll learn how to generate our own word embeddings by training our own Word2Vec model, and also by building embedding layers right into our Deep Neural Networks!\n",
    "\n",
    "## Objectives\n",
    "\n",
    "You will be able to:\n",
    "\n",
    "* Demonstrate a basic understanding of the architecture of the Word2Vec model\n",
    "* Demonstrate an understanding of the various tunable parameters of word2vec such as vector size and window size\n",
    "\n",
    "## Getting Started\n",
    "\n",
    "In this lab, we'll start by creating our own word embeddings by making use of the Word2Vec Model. Then, we'll move onto building Neural Networks that make use of **_Embedding Layers_** to accomplish the same end-goal, but directly in our model. \n",
    "\n",
    "The easiest way to make use of Word2Vec is to import it from the [Gensim Library](https://radimrehurek.com/gensim/). This model contains a full implementation of Word2Vec, which we can use to begin training immediately. For this lab, we'll be working with the [News Category Dataset from Kaggle](https://www.kaggle.com/rmisra/news-category-dataset/version/2#_=_).  This dataset contains headlines and article descriptions from the news, as well as categories for which type of article they belong to.  In this lab, we'll learn how to train a Word2Vec model on the text data to generate word embeddings for them. In the next lab, we'll then use the vectors created by our Word2Vec model to effectively train a classifier to predict the category of news given the headline and description of each article. In this lab, we won't do any classification, although we will learn how to train a Word2Vec model and explore the relationships between different word vectors in our embedding!\n",
    "\n",
    "Run the cell below to import everything we'll need for this lab. "
   ]
  },
  {
   "cell_type": "code",
   "execution_count": 1,
   "metadata": {},
   "outputs": [
    {
     "name": "stderr",
     "output_type": "stream",
     "text": [
      "C:\\Users\\kylej\\Anaconda3\\envs\\learn-env\\lib\\site-packages\\gensim\\utils.py:1197: UserWarning: detected Windows; aliasing chunkize to chunkize_serial\n",
      "  warnings.warn(\"detected Windows; aliasing chunkize to chunkize_serial\")\n"
     ]
    }
   ],
   "source": [
    "import pandas as pd\n",
    "import numpy as np\n",
    "np.random.seed(0)\n",
    "from gensim.models import Word2Vec\n",
    "from nltk import word_tokenize"
   ]
  },
  {
   "cell_type": "markdown",
   "metadata": {},
   "source": [
    "Now, we'll import the data. You'll find the data stored in the file `'News_Category_Dataset_v2.json'`.  This file is compressed, so that it can be more easily stored in a github repo. **_Make sure to unzip the file before continuing!_**\n",
    "\n",
    "In the cell below, use the `read_json` function from pandas to read the dataset into a DataFrame. Be sure to also include the parameter `lines=True` when reading in the dataset!\n",
    "\n",
    "Once you've loaded in the data, inspect the head of the DataFrame to see what our data looks like. "
   ]
  },
  {
   "cell_type": "code",
   "execution_count": 2,
   "metadata": {},
   "outputs": [
    {
     "data": {
      "text/html": [
       "<div>\n",
       "<style scoped>\n",
       "    .dataframe tbody tr th:only-of-type {\n",
       "        vertical-align: middle;\n",
       "    }\n",
       "\n",
       "    .dataframe tbody tr th {\n",
       "        vertical-align: top;\n",
       "    }\n",
       "\n",
       "    .dataframe thead th {\n",
       "        text-align: right;\n",
       "    }\n",
       "</style>\n",
       "<table border=\"1\" class=\"dataframe\">\n",
       "  <thead>\n",
       "    <tr style=\"text-align: right;\">\n",
       "      <th></th>\n",
       "      <th>authors</th>\n",
       "      <th>category</th>\n",
       "      <th>date</th>\n",
       "      <th>headline</th>\n",
       "      <th>link</th>\n",
       "      <th>short_description</th>\n",
       "    </tr>\n",
       "  </thead>\n",
       "  <tbody>\n",
       "    <tr>\n",
       "      <th>0</th>\n",
       "      <td>Melissa Jeltsen</td>\n",
       "      <td>CRIME</td>\n",
       "      <td>2018-05-26</td>\n",
       "      <td>There Were 2 Mass Shootings In Texas Last Week...</td>\n",
       "      <td>https://www.huffingtonpost.com/entry/texas-ama...</td>\n",
       "      <td>She left her husband. He killed their children...</td>\n",
       "    </tr>\n",
       "    <tr>\n",
       "      <th>1</th>\n",
       "      <td>Andy McDonald</td>\n",
       "      <td>ENTERTAINMENT</td>\n",
       "      <td>2018-05-26</td>\n",
       "      <td>Will Smith Joins Diplo And Nicky Jam For The 2...</td>\n",
       "      <td>https://www.huffingtonpost.com/entry/will-smit...</td>\n",
       "      <td>Of course it has a song.</td>\n",
       "    </tr>\n",
       "    <tr>\n",
       "      <th>2</th>\n",
       "      <td>Ron Dicker</td>\n",
       "      <td>ENTERTAINMENT</td>\n",
       "      <td>2018-05-26</td>\n",
       "      <td>Hugh Grant Marries For The First Time At Age 57</td>\n",
       "      <td>https://www.huffingtonpost.com/entry/hugh-gran...</td>\n",
       "      <td>The actor and his longtime girlfriend Anna Ebe...</td>\n",
       "    </tr>\n",
       "    <tr>\n",
       "      <th>3</th>\n",
       "      <td>Ron Dicker</td>\n",
       "      <td>ENTERTAINMENT</td>\n",
       "      <td>2018-05-26</td>\n",
       "      <td>Jim Carrey Blasts 'Castrato' Adam Schiff And D...</td>\n",
       "      <td>https://www.huffingtonpost.com/entry/jim-carre...</td>\n",
       "      <td>The actor gives Dems an ass-kicking for not fi...</td>\n",
       "    </tr>\n",
       "    <tr>\n",
       "      <th>4</th>\n",
       "      <td>Ron Dicker</td>\n",
       "      <td>ENTERTAINMENT</td>\n",
       "      <td>2018-05-26</td>\n",
       "      <td>Julianna Margulies Uses Donald Trump Poop Bags...</td>\n",
       "      <td>https://www.huffingtonpost.com/entry/julianna-...</td>\n",
       "      <td>The \"Dietland\" actress said using the bags is ...</td>\n",
       "    </tr>\n",
       "  </tbody>\n",
       "</table>\n",
       "</div>"
      ],
      "text/plain": [
       "           authors       category       date  \\\n",
       "0  Melissa Jeltsen          CRIME 2018-05-26   \n",
       "1    Andy McDonald  ENTERTAINMENT 2018-05-26   \n",
       "2       Ron Dicker  ENTERTAINMENT 2018-05-26   \n",
       "3       Ron Dicker  ENTERTAINMENT 2018-05-26   \n",
       "4       Ron Dicker  ENTERTAINMENT 2018-05-26   \n",
       "\n",
       "                                            headline  \\\n",
       "0  There Were 2 Mass Shootings In Texas Last Week...   \n",
       "1  Will Smith Joins Diplo And Nicky Jam For The 2...   \n",
       "2    Hugh Grant Marries For The First Time At Age 57   \n",
       "3  Jim Carrey Blasts 'Castrato' Adam Schiff And D...   \n",
       "4  Julianna Margulies Uses Donald Trump Poop Bags...   \n",
       "\n",
       "                                                link  \\\n",
       "0  https://www.huffingtonpost.com/entry/texas-ama...   \n",
       "1  https://www.huffingtonpost.com/entry/will-smit...   \n",
       "2  https://www.huffingtonpost.com/entry/hugh-gran...   \n",
       "3  https://www.huffingtonpost.com/entry/jim-carre...   \n",
       "4  https://www.huffingtonpost.com/entry/julianna-...   \n",
       "\n",
       "                                   short_description  \n",
       "0  She left her husband. He killed their children...  \n",
       "1                           Of course it has a song.  \n",
       "2  The actor and his longtime girlfriend Anna Ebe...  \n",
       "3  The actor gives Dems an ass-kicking for not fi...  \n",
       "4  The \"Dietland\" actress said using the bags is ...  "
      ]
     },
     "execution_count": 2,
     "metadata": {},
     "output_type": "execute_result"
    }
   ],
   "source": [
    "raw_df = pd.read_json('News_Category_Dataset_v2.json', lines=True)\n",
    "raw_df.head()"
   ]
  },
  {
   "cell_type": "markdown",
   "metadata": {},
   "source": [
    "## Preparing the Data\n",
    "\n",
    "Since we're working with text data, we'll still need to do some basic preprocessing and tokenize our data. You'll notice from the sample of the data above that two different columns contain text data--`headline` and `short_description`. The more text data our Word2Vec model has, the better it will perform. Therefore, we'll want to combine the two columns before tokenizing each comment and training our Word2Vec model. \n",
    "\n",
    "In the cell below:\n",
    "\n",
    "* Create a column called `combined_text` that consists of the data from `df.headline` plus a space character (`' '`) plus the data from `df.short_description`.\n",
    "* Use the `combined_text` column's `map()` function and pass in `word_tokenize`. Store the result returned in `data`."
   ]
  },
  {
   "cell_type": "code",
   "execution_count": 4,
   "metadata": {},
   "outputs": [],
   "source": [
    "raw_df['combined_text'] = raw_df.headline + ' ' +  raw_df.short_description\n",
    "data = raw_df['combined_text'].map(word_tokenize)"
   ]
  },
  {
   "cell_type": "markdown",
   "metadata": {},
   "source": [
    "Let's inspect the first 5 items in `data` to see how everything looks. "
   ]
  },
  {
   "cell_type": "code",
   "execution_count": 5,
   "metadata": {},
   "outputs": [
    {
     "data": {
      "text/plain": [
       "0    [There, Were, 2, Mass, Shootings, In, Texas, L...\n",
       "1    [Will, Smith, Joins, Diplo, And, Nicky, Jam, F...\n",
       "2    [Hugh, Grant, Marries, For, The, First, Time, ...\n",
       "3    [Jim, Carrey, Blasts, 'Castrato, ', Adam, Schi...\n",
       "4    [Julianna, Margulies, Uses, Donald, Trump, Poo...\n",
       "Name: combined_text, dtype: object"
      ]
     },
     "execution_count": 5,
     "metadata": {},
     "output_type": "execute_result"
    }
   ],
   "source": [
    "data[:5]"
   ]
  },
  {
   "cell_type": "markdown",
   "metadata": {},
   "source": [
    "You'll notice that although the words are tokenized, they are still in the same order they were in as headlines. This is important, because the words need to be in their original order for Word2Vec to establish the meaning of them. Recall from our previous lesson on how Word2Vec works that we can specify a  **_Window Size_** that tells the model how many words to take into consideration at one time. \n",
    "\n",
    "If our window size was 5, then the model would start by looking at the words \"Will Smith joins Diplo and\", and then slide the window by one, so that it's looking at \"Smith joins Diplo and Nicky\", and so on, until it had completely processed the text example at index 1 above. By doing this for every piece of text in the entire dataset, the Word2Vec model learns excellent vector representations for each word in an **_Embedding Space_**, where the relationships between vectors capture semantic meaning (recall the vector that captures gender in the previous \"king - man + woman = queen\" example we saw).\n",
    "\n",
    "Now that we've prepared our data, let's train our model and explore a bit!\n",
    "\n",
    "## Training the Model\n",
    "\n",
    "We'll start by instantiating a Word2Vec Model from gensim below. \n",
    "\n",
    "In the cell below:\n",
    "\n",
    "* Create a `Word2Vec` model and pass in the following arguments:\n",
    "    * The dataset we'll be training on, `data`\n",
    "    * The size of the word vectors to create, `size=100`\n",
    "    * The window size, `window=5`\n",
    "    * The minimum number of times a word needs to appear in order to be counted in  the model, `min_count=1`.\n",
    "    * The number of threads to use during training, `workers=4`"
   ]
  },
  {
   "cell_type": "code",
   "execution_count": 6,
   "metadata": {},
   "outputs": [],
   "source": [
    "model = Word2Vec(data,size=100,window=5,min_count=1,workers=4)"
   ]
  },
  {
   "cell_type": "markdown",
   "metadata": {},
   "source": [
    "Now, that we've created our Word2Vec model, we still need to train it on our model. \n",
    "\n",
    "In the cell below:\n",
    "\n",
    "* Call `model.train()` and pass in the following parameters:\n",
    "    * The dataset we'll be training on, `data`\n",
    "    * The `total_examples`  of sentences in the dataset, which we can find in `model.corpus_count`. \n",
    "    * The number of `epochs` we want to train for, which we'll set to `10`"
   ]
  },
  {
   "cell_type": "code",
   "execution_count": 7,
   "metadata": {},
   "outputs": [
    {
     "data": {
      "text/plain": [
       "(55563396, 67352790)"
      ]
     },
     "execution_count": 7,
     "metadata": {},
     "output_type": "execute_result"
    }
   ],
   "source": [
    "model.train(data,total_examples=model.corpus_count,epochs=10)"
   ]
  },
  {
   "cell_type": "markdown",
   "metadata": {},
   "source": [
    "Great! We now have a fully trained model! The word vectors themselves are stored inside of a `Word2VecKeyedVectors` instance, which we'll find stored inside of `model.wv`. For simplicity's sake, let's go ahead and store this inside of the variable `wv` in order to save ourselves some keystrokes down the line. "
   ]
  },
  {
   "cell_type": "code",
   "execution_count": 8,
   "metadata": {},
   "outputs": [],
   "source": [
    "wv = model.wv"
   ]
  },
  {
   "cell_type": "markdown",
   "metadata": {},
   "source": [
    "## Examining Our Word Vectors\n",
    "\n",
    "Now that we have a trained Word2Vec model, let's go ahead and explore the relationships between some of the words in our corpus! \n",
    "\n",
    "One cool thing we can use Word2Vec for is to get the most similar words to a given word. We can do this passing in the word to `wv.most_similar()`. \n",
    "\n",
    "In the cell below, let's try getting the most similar word to `'Texas'`."
   ]
  },
  {
   "cell_type": "code",
   "execution_count": 9,
   "metadata": {},
   "outputs": [
    {
     "data": {
      "text/plain": [
       "[('Louisiana', 0.8017959594726562),\n",
       " ('Pennsylvania', 0.7931137084960938),\n",
       " ('Maryland', 0.7884798049926758),\n",
       " ('Massachusetts', 0.7802146673202515),\n",
       " ('Georgia', 0.7764650583267212),\n",
       " ('California', 0.7747895121574402),\n",
       " ('Oregon', 0.7728609442710876),\n",
       " ('Ohio', 0.7715286016464233),\n",
       " ('Illinois', 0.7710453271865845),\n",
       " ('Arkansas', 0.7651315927505493)]"
      ]
     },
     "execution_count": 9,
     "metadata": {},
     "output_type": "execute_result"
    }
   ],
   "source": [
    "wv.most_similar('Texas')"
   ]
  },
  {
   "cell_type": "markdown",
   "metadata": {},
   "source": [
    "Interesting! All of the most similar words are also states. \n",
    "\n",
    "We can also get the least similar vectors to a given word by passing in the word to the `most_similar()` function's `negative` parameter. \n",
    "\n",
    "In the cell below, get the least similar words to `'Texas'`."
   ]
  },
  {
   "cell_type": "code",
   "execution_count": 10,
   "metadata": {},
   "outputs": [
    {
     "data": {
      "text/plain": [
       "[('maitre', 0.3960983157157898),\n",
       " ('once-reliable', 0.3872682452201843),\n",
       " ('Slammers', 0.37580251693725586),\n",
       " ('Hendrix-Jackson', 0.3737111985683441),\n",
       " ('spring-cleaning', 0.3698841631412506),\n",
       " ('Parent/Grandparent', 0.36393675208091736),\n",
       " ('Warring', 0.3638947010040283),\n",
       " ('Anti-Nepotism', 0.3634575605392456),\n",
       " ('granddaughter-in-law', 0.35947075486183167),\n",
       " ('Gallery-Goer', 0.35661137104034424)]"
      ]
     },
     "execution_count": 10,
     "metadata": {},
     "output_type": "execute_result"
    }
   ],
   "source": [
    "wv.most_similar(negative='Texas')"
   ]
  },
  {
   "cell_type": "markdown",
   "metadata": {},
   "source": [
    "These seem like just noise. This is because of the way Word2Vec is computing the similarity between word vectors in the embedding space. Although the word vectors closest to a given word vector are almost certainly going to have similar meaning or connotation with our given word, the word vectors that the model considers 'least similar' are just the word vectors that are farthest away, or have the lowest cosine similarity. It's important to understand that while the closest vectors in the embedding space will almost certainly share some level of semantic meaning with a given word, there is no guarantee that this relationship will hold at large distances. \n",
    "\n",
    "We can also get the vector for a given word by passing in the word as if we were passing in a key to a dictionary. \n",
    "\n",
    "In the cell below, get the word vector for `'Texas'`."
   ]
  },
  {
   "cell_type": "code",
   "execution_count": 11,
   "metadata": {},
   "outputs": [
    {
     "data": {
      "text/plain": [
       "array([-0.64780915,  0.65946853,  0.8059694 , -1.2049867 , -0.7015441 ,\n",
       "        1.4265006 , -0.40120405,  0.8404394 ,  0.68623966,  0.9441546 ,\n",
       "        0.11453859,  1.1477964 ,  0.68632144,  0.5719214 , -1.3756368 ,\n",
       "        2.4752617 ,  1.1121345 ,  0.6700524 , -1.1032904 , -0.7067725 ,\n",
       "       -1.8048272 ,  0.81053334, -1.3707851 , -0.14175941,  1.7920672 ,\n",
       "        1.0995923 ,  1.6858064 , -1.8344884 , -0.33641285,  1.2962258 ,\n",
       "       -0.8218494 ,  2.994359  ,  1.5716463 , -0.7754835 , -1.0843068 ,\n",
       "       -2.134458  ,  0.6695742 , -0.46093038, -2.1490712 ,  2.7842338 ,\n",
       "        1.1295954 , -0.72285557, -0.999999  ,  1.7906914 , -2.0237482 ,\n",
       "       -2.364975  , -0.20426601,  1.6922786 , -1.3327228 ,  0.23594399,\n",
       "       -0.68173593,  2.0856946 , -1.3123187 ,  0.22985013, -1.0592233 ,\n",
       "       -0.7691859 ,  1.8625714 ,  0.05677186,  1.0134239 , -0.19782737,\n",
       "        0.19521461,  0.9766714 ,  2.0675957 , -1.3704029 ,  1.2270187 ,\n",
       "        0.15871082,  1.1427242 ,  2.830819  ,  2.1681106 ,  0.9134285 ,\n",
       "        0.73353463, -1.4032276 , -1.575104  , -0.44541305,  0.5981485 ,\n",
       "       -1.303563  ,  0.04874903,  1.0492166 ,  0.68945414,  0.65134126,\n",
       "       -0.57348627, -0.3954502 ,  0.65451676,  1.3340229 ,  1.292948  ,\n",
       "        1.5407004 , -0.2601759 ,  1.2854185 ,  0.6750865 , -1.9333307 ,\n",
       "       -2.673711  ,  1.3515556 ,  0.4372551 , -0.47858366,  1.473149  ,\n",
       "        1.0641416 ,  1.5697709 , -1.3632255 ,  1.2136358 , -1.702216  ],\n",
       "      dtype=float32)"
      ]
     },
     "execution_count": 11,
     "metadata": {},
     "output_type": "execute_result"
    }
   ],
   "source": [
    "wv['Texas']"
   ]
  },
  {
   "cell_type": "markdown",
   "metadata": {},
   "source": [
    "Let's get all of the word vectors from the object at once. We can find these inside of `wv.vectors`.  Do this now in the cell below.  "
   ]
  },
  {
   "cell_type": "code",
   "execution_count": 12,
   "metadata": {},
   "outputs": [
    {
     "data": {
      "text/plain": [
       "array([[-6.9213629e-01, -1.1123252e+00, -5.0163114e-01, ...,\n",
       "         1.8822806e-01, -8.1210494e-01, -7.7210140e-01],\n",
       "       [-1.9424385e+00,  6.2660849e-01, -9.4548064e-01, ...,\n",
       "        -4.5604384e-01,  3.3847106e-01, -1.6874553e+00],\n",
       "       [ 3.0571860e-01,  2.9193716e+00,  1.8417236e+00, ...,\n",
       "        -1.3604221e+00,  3.4367546e-01, -2.0920167e+00],\n",
       "       ...,\n",
       "       [-9.4902426e-02, -6.1708644e-02, -8.7568969e-02, ...,\n",
       "        -6.0073123e-03, -3.4199636e-02,  1.0492897e-01],\n",
       "       [ 5.8822714e-02, -2.7798915e-02, -4.7463745e-02, ...,\n",
       "         8.4818397e-03,  9.8151863e-03,  5.9004679e-02],\n",
       "       [-3.6678351e-02, -5.6892812e-02, -6.6826276e-02, ...,\n",
       "         3.1502109e-02, -5.3821329e-02, -2.3972737e-03]], dtype=float32)"
      ]
     },
     "execution_count": 12,
     "metadata": {},
     "output_type": "execute_result"
    }
   ],
   "source": [
    "wv.vectors"
   ]
  },
  {
   "cell_type": "markdown",
   "metadata": {},
   "source": [
    "As a final exercise, let's try recreating the _'king' - 'man' + 'woman' = 'queen'_ example we've seen before. We can do this by using the `most_similar` function and putting the things we want added together inside of an array passed to the `positive` parameter, and the things we want subtracted as an array passed to the the `negative` parameter. \n",
    "\n",
    "Do this now in the cell below. "
   ]
  },
  {
   "cell_type": "code",
   "execution_count": 13,
   "metadata": {},
   "outputs": [
    {
     "data": {
      "text/plain": [
       "[('princess', 0.6222004294395447),\n",
       " ('queen', 0.5807597637176514),\n",
       " ('brunette', 0.5754753351211548),\n",
       " ('jewel', 0.5541410446166992),\n",
       " ('title', 0.5516104698181152),\n",
       " ('Queen', 0.5500383973121643),\n",
       " ('reminiscent', 0.5499407052993774),\n",
       " ('fan', 0.5491604208946228),\n",
       " ('crown', 0.5382720232009888),\n",
       " ('purveyor', 0.5372849106788635)]"
      ]
     },
     "execution_count": 13,
     "metadata": {},
     "output_type": "execute_result"
    }
   ],
   "source": [
    "wv.most_similar(positive=['king', 'woman'], negative=['man'])"
   ]
  },
  {
   "cell_type": "markdown",
   "metadata": {},
   "source": [
    "As we can see from the output above, our model isn't perfect, but 'Queen' is still in the top 3, and with 'Princess' not too far behind. As we can see from the word in first place, 'reminiscent', our model is far from perfect. This is likely because we didn't give it too much training, or training data. However, for the small amount of training data it was given, the model still performs remarkably well! \n",
    "\n",
    "We'll see in the next lab that from a practical standpoint, one of the best things we can do for performance is to start by loading in the weights from an open-sourced model that has been trained for a very long time on a massive amount of data, such as the GloVe model from the Stanford NLP Group. There's not really any benefit from training the model ourselves, unless our text uses different, specialized vocabulary that isn't likely to be well represented inside an open-source model.\n",
    "\n",
    "## Summary\n",
    "\n",
    "In this lab, we learned how to train and use a Word2Vec model to created vectorized word embeddings!"
   ]
  }
 ],
 "metadata": {
  "kernelspec": {
   "display_name": "learn-env",
   "language": "python",
   "name": "learn-env"
  },
  "language_info": {
   "codemirror_mode": {
    "name": "ipython",
    "version": 3
   },
   "file_extension": ".py",
   "mimetype": "text/x-python",
   "name": "python",
   "nbconvert_exporter": "python",
   "pygments_lexer": "ipython3",
   "version": "3.6.6"
  }
 },
 "nbformat": 4,
 "nbformat_minor": 2
}
